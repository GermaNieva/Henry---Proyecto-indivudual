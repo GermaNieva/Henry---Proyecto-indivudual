{
 "cells": [
  {
   "cell_type": "code",
   "execution_count": 1,
   "metadata": {},
   "outputs": [
    {
     "name": "stdout",
     "output_type": "stream",
     "text": [
      "      id                        title release_date  popularity  vote_average  \\\n",
      "0    862                    Toy Story   1995-10-30   21.946943           7.7   \n",
      "1   8844                      Jumanji   1995-12-15   17.015539           6.9   \n",
      "2  15602             Grumpier Old Men   1995-12-22   11.712900           6.5   \n",
      "3  31357            Waiting to Exhale   1995-12-22    3.859495           6.1   \n",
      "4  11862  Father of the Bride Part II   1995-02-10    8.387519           5.7   \n",
      "\n",
      "   vote_count    budget      revenue     return  \\\n",
      "0      5415.0  30000000  373554033.0  12.451801   \n",
      "1      2413.0  65000000  262797249.0   4.043035   \n",
      "2        92.0         0          0.0   0.000000   \n",
      "3        34.0  16000000   81452156.0   5.090760   \n",
      "4       173.0         0   76578911.0   0.000000   \n",
      "\n",
      "                                              actors        directors  \n",
      "0  Tom Hanks, Tim Allen, Don Rickles, Jim Varney,...    John Lasseter  \n",
      "1  Robin Williams, Jonathan Hyde, Kirsten Dunst, ...     Joe Johnston  \n",
      "2  Walter Matthau, Jack Lemmon, Ann-Margret, Soph...    Howard Deutch  \n",
      "3  Whitney Houston, Angela Bassett, Loretta Devin...  Forest Whitaker  \n",
      "4  Steve Martin, Diane Keaton, Martin Short, Kimb...    Charles Shyer  \n"
     ]
    }
   ],
   "source": [
    "import pandas as pd\n",
    "\n",
    "# Cargar los archivos CSV\n",
    "movies_df = pd.read_csv('movies_dataset_cleaned.csv')\n",
    "credits_df = pd.read_csv('credits_processed.csv')\n",
    "\n",
    "# Función para depurar el dataset de películas\n",
    "def depurar_movies(df):\n",
    "    # Convertir release_date a datetime\n",
    "    df['release_date'] = pd.to_datetime(df['release_date'], errors='coerce')\n",
    "    \n",
    "    # Calcular el retorno (revenue / budget)\n",
    "    df['return'] = df.apply(lambda row: row['revenue'] / row['budget'] if row['budget'] > 0 else 0, axis=1)\n",
    "    \n",
    "    # Eliminar columnas innecesarias si las hay\n",
    "    columnas_necesarias = ['id', 'title', 'release_date', 'popularity', 'vote_average', 'vote_count', 'budget', 'revenue', 'return']\n",
    "    df = df[columnas_necesarias]\n",
    "    \n",
    "    return df\n",
    "\n",
    "# Aplicar la depuración al dataset de películas\n",
    "movies_df = depurar_movies(movies_df)\n",
    "\n",
    "# Seleccionar las columnas necesarias de credits_df\n",
    "credits_columns = ['id', 'actors', 'directors']\n",
    "credits_df = credits_df[credits_columns]\n",
    "\n",
    "# Realizar el merge de los datasets por 'id'\n",
    "merged_df = pd.merge(movies_df, credits_df, on='id')\n",
    "\n",
    "# Guardar el dataset resultante en un archivo Parquet\n",
    "merged_df.to_parquet('movies_credits_merged.parquet', index=False)\n",
    "\n",
    "# Mostrar las primeras filas del DataFrame final para verificar\n",
    "print(merged_df.head())\n"
   ]
  }
 ],
 "metadata": {
  "kernelspec": {
   "display_name": "Python 3",
   "language": "python",
   "name": "python3"
  },
  "language_info": {
   "codemirror_mode": {
    "name": "ipython",
    "version": 3
   },
   "file_extension": ".py",
   "mimetype": "text/x-python",
   "name": "python",
   "nbconvert_exporter": "python",
   "pygments_lexer": "ipython3",
   "version": "3.12.1"
  }
 },
 "nbformat": 4,
 "nbformat_minor": 2
}
