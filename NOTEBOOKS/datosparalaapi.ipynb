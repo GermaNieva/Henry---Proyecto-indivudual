{
 "cells": [
  {
   "cell_type": "code",
   "execution_count": 1,
   "metadata": {},
   "outputs": [
    {
     "name": "stdout",
     "output_type": "stream",
     "text": [
      "   adult                              belongs_to_collection    budget  \\\n",
      "0  False  {'id': 10194, 'name': 'Toy Story Collection', ...  30000000   \n",
      "1  False                                                 {}  65000000   \n",
      "2  False  {'id': 119050, 'name': 'Grumpy Old Men Collect...         0   \n",
      "3  False                                                 {}  16000000   \n",
      "4  False  {'id': 96871, 'name': 'Father of the Bride Col...         0   \n",
      "\n",
      "                                              genres  \\\n",
      "0  [{'id': 16, 'name': 'Animation'}, {'id': 35, '...   \n",
      "1  [{'id': 12, 'name': 'Adventure'}, {'id': 14, '...   \n",
      "2  [{'id': 10749, 'name': 'Romance'}, {'id': 35, ...   \n",
      "3  [{'id': 35, 'name': 'Comedy'}, {'id': 18, 'nam...   \n",
      "4                     [{'id': 35, 'name': 'Comedy'}]   \n",
      "\n",
      "                               homepage     id    imdb_id original_language  \\\n",
      "0  http://toystory.disney.com/toy-story    862  tt0114709                en   \n",
      "1                                   NaN   8844  tt0113497                en   \n",
      "2                                   NaN  15602  tt0113228                en   \n",
      "3                                   NaN  31357  tt0114885                en   \n",
      "4                                   NaN  11862  tt0113041                en   \n",
      "\n",
      "                original_title  \\\n",
      "0                    Toy Story   \n",
      "1                      Jumanji   \n",
      "2             Grumpier Old Men   \n",
      "3            Waiting to Exhale   \n",
      "4  Father of the Bride Part II   \n",
      "\n",
      "                                            overview  ...    status  \\\n",
      "0  Led by Woody, Andy's toys live happily in his ...  ...  Released   \n",
      "1  When siblings Judy and Peter discover an encha...  ...  Released   \n",
      "2  A family wedding reignites the ancient feud be...  ...  Released   \n",
      "3  Cheated on, mistreated and stepped on, the wom...  ...  Released   \n",
      "4  Just when George Banks has recovered from his ...  ...  Released   \n",
      "\n",
      "                                             tagline  \\\n",
      "0                                                NaN   \n",
      "1          Roll the dice and unleash the excitement!   \n",
      "2  Still Yelling. Still Fighting. Still Ready for...   \n",
      "3  Friends are the people who let you be yourself...   \n",
      "4  Just When His World Is Back To Normal... He's ...   \n",
      "\n",
      "                         title  video vote_average  vote_count  collection_id  \\\n",
      "0                    Toy Story  False          7.7      5415.0        10194.0   \n",
      "1                      Jumanji  False          6.9      2413.0            NaN   \n",
      "2             Grumpier Old Men  False          6.5        92.0       119050.0   \n",
      "3            Waiting to Exhale  False          6.1        34.0            NaN   \n",
      "4  Father of the Bride Part II  False          5.7       173.0        96871.0   \n",
      "\n",
      "                  collection_name            collection_poster_path  \\\n",
      "0            Toy Story Collection  /7G9915LfUQ2lVfwMEEhDsn3kT4B.jpg   \n",
      "1                             NaN                               NaN   \n",
      "2       Grumpy Old Men Collection  /nLvUdqgPgm3F85NMCii9gVFUcet.jpg   \n",
      "3                             NaN                               NaN   \n",
      "4  Father of the Bride Collection  /nts4iOmNnq7GNicycMJ9pSAn204.jpg   \n",
      "\n",
      "           collection_backdrop_path  \n",
      "0  /9FBwqcd9IRruEDUrTdcaafOMKUq.jpg  \n",
      "1                               NaN  \n",
      "2  /hypTnLot2z8wpFS7qwsQHW1uV8u.jpg  \n",
      "3                               NaN  \n",
      "4  /7qwE57OVZmMJChBpLEbJEmzUydk.jpg  \n",
      "\n",
      "[5 rows x 28 columns]\n"
     ]
    },
    {
     "name": "stderr",
     "output_type": "stream",
     "text": [
      "C:\\Users\\germa\\AppData\\Local\\Temp\\ipykernel_41944\\3640501675.py:5: DtypeWarning: Columns (10) have mixed types. Specify dtype option on import or set low_memory=False.\n",
      "  df = pd.read_csv('movies_dataset.csv')\n"
     ]
    }
   ],
   "source": [
    "import pandas as pd\n",
    "import json\n",
    "\n",
    "# Cargar el dataset\n",
    "df = pd.read_csv('movies_dataset.csv')\n",
    "\n",
    "# Función para convertir comillas simples a dobles y cargar JSON\n",
    "def load_json(x):\n",
    "    if pd.notna(x):\n",
    "        try:\n",
    "            return json.loads(x.replace(\"'\", '\"'))\n",
    "        except json.JSONDecodeError:\n",
    "            return {}  # Retorna un diccionario vacío en caso de error\n",
    "    else:\n",
    "        return {}\n",
    "\n",
    "# Convertir los strings de diccionario en diccionarios reales\n",
    "df['belongs_to_collection'] = df['belongs_to_collection'].apply(load_json)\n",
    "\n",
    "# Expandir el diccionario en columnas separadas\n",
    "collection_cols = pd.json_normalize(df['belongs_to_collection'])\n",
    "collection_cols.columns = ['collection_' + col for col in collection_cols.columns]  # Renombrar columnas para claridad\n",
    "df = df.join(collection_cols)\n",
    "\n",
    "print(df.head())\n",
    "\n"
   ]
  },
  {
   "cell_type": "code",
   "execution_count": 2,
   "metadata": {},
   "outputs": [
    {
     "data": {
      "text/plain": [
       "(45466, 28)"
      ]
     },
     "execution_count": 2,
     "metadata": {},
     "output_type": "execute_result"
    }
   ],
   "source": [
    "df.shape"
   ]
  },
  {
   "cell_type": "code",
   "execution_count": 3,
   "metadata": {},
   "outputs": [
    {
     "name": "stdout",
     "output_type": "stream",
     "text": [
      "   adult                              belongs_to_collection    budget  \\\n",
      "0  False  {'id': 10194, 'name': 'Toy Story Collection', ...  30000000   \n",
      "0  False  {'id': 10194, 'name': 'Toy Story Collection', ...  30000000   \n",
      "0  False  {'id': 10194, 'name': 'Toy Story Collection', ...  30000000   \n",
      "1  False                                                 {}  65000000   \n",
      "1  False                                                 {}  65000000   \n",
      "\n",
      "                               homepage    id    imdb_id original_language  \\\n",
      "0  http://toystory.disney.com/toy-story   862  tt0114709                en   \n",
      "0  http://toystory.disney.com/toy-story   862  tt0114709                en   \n",
      "0  http://toystory.disney.com/toy-story   862  tt0114709                en   \n",
      "1                                   NaN  8844  tt0113497                en   \n",
      "1                                   NaN  8844  tt0113497                en   \n",
      "\n",
      "  original_title                                           overview  \\\n",
      "0      Toy Story  Led by Woody, Andy's toys live happily in his ...   \n",
      "0      Toy Story  Led by Woody, Andy's toys live happily in his ...   \n",
      "0      Toy Story  Led by Woody, Andy's toys live happily in his ...   \n",
      "1        Jumanji  When siblings Judy and Peter discover an encha...   \n",
      "1        Jumanji  When siblings Judy and Peter discover an encha...   \n",
      "\n",
      "  popularity  ...      title  video vote_average vote_count  collection_id  \\\n",
      "0  21.946943  ...  Toy Story  False          7.7     5415.0        10194.0   \n",
      "0  21.946943  ...  Toy Story  False          7.7     5415.0        10194.0   \n",
      "0  21.946943  ...  Toy Story  False          7.7     5415.0        10194.0   \n",
      "1  17.015539  ...    Jumanji  False          6.9     2413.0            NaN   \n",
      "1  17.015539  ...    Jumanji  False          6.9     2413.0            NaN   \n",
      "\n",
      "        collection_name            collection_poster_path  \\\n",
      "0  Toy Story Collection  /7G9915LfUQ2lVfwMEEhDsn3kT4B.jpg   \n",
      "0  Toy Story Collection  /7G9915LfUQ2lVfwMEEhDsn3kT4B.jpg   \n",
      "0  Toy Story Collection  /7G9915LfUQ2lVfwMEEhDsn3kT4B.jpg   \n",
      "1                   NaN                               NaN   \n",
      "1                   NaN                               NaN   \n",
      "\n",
      "           collection_backdrop_path genre_id genre_name  \n",
      "0  /9FBwqcd9IRruEDUrTdcaafOMKUq.jpg     16.0  Animation  \n",
      "0  /9FBwqcd9IRruEDUrTdcaafOMKUq.jpg     16.0  Animation  \n",
      "0  /9FBwqcd9IRruEDUrTdcaafOMKUq.jpg     16.0  Animation  \n",
      "1                               NaN     35.0     Comedy  \n",
      "1                               NaN     35.0     Comedy  \n",
      "\n",
      "[5 rows x 29 columns]\n"
     ]
    }
   ],
   "source": [
    "import pandas as pd\n",
    "import json\n",
    "\n",
    "# Función para cargar y limpiar datos JSON\n",
    "def clean_json(data):\n",
    "    return json.loads(data.replace(\"'\", '\"')) if pd.notna(data) else None\n",
    "\n",
    "# Limpiar y convertir datos JSON en la columna 'genres'\n",
    "df['genres'] = df['genres'].apply(clean_json)\n",
    "\n",
    "# Expandir la columna 'genres' en múltiples filas\n",
    "genres_expanded = df.explode('genres')\n",
    "\n",
    "# Normalizar los datos de 'genres' y unir con el DataFrame original\n",
    "genres_normalized = pd.json_normalize(genres_expanded['genres'])\n",
    "genres_normalized.columns = ['genre_' + col for col in genres_normalized.columns]  # Renombrar columnas para claridad\n",
    "df = genres_expanded.drop('genres', axis=1).join(genres_normalized)\n",
    "\n",
    "print(df.head())\n"
   ]
  },
  {
   "cell_type": "code",
   "execution_count": 4,
   "metadata": {},
   "outputs": [
    {
     "data": {
      "text/plain": [
       "(93548, 29)"
      ]
     },
     "execution_count": 4,
     "metadata": {},
     "output_type": "execute_result"
    }
   ],
   "source": [
    "df.shape"
   ]
  },
  {
   "cell_type": "code",
   "execution_count": 5,
   "metadata": {},
   "outputs": [
    {
     "name": "stdout",
     "output_type": "stream",
     "text": [
      "   adult                              belongs_to_collection    budget  \\\n",
      "0  False  {'id': 10194, 'name': 'Toy Story Collection', ...  30000000   \n",
      "0  False  {'id': 10194, 'name': 'Toy Story Collection', ...  30000000   \n",
      "0  False  {'id': 10194, 'name': 'Toy Story Collection', ...  30000000   \n",
      "1  False                                                 {}  65000000   \n",
      "1  False                                                 {}  65000000   \n",
      "\n",
      "                               homepage    id    imdb_id original_language  \\\n",
      "0  http://toystory.disney.com/toy-story   862  tt0114709                en   \n",
      "0  http://toystory.disney.com/toy-story   862  tt0114709                en   \n",
      "0  http://toystory.disney.com/toy-story   862  tt0114709                en   \n",
      "1                                   NaN  8844  tt0113497                en   \n",
      "1                                   NaN  8844  tt0113497                en   \n",
      "\n",
      "  original_title                                           overview  \\\n",
      "0      Toy Story  Led by Woody, Andy's toys live happily in his ...   \n",
      "0      Toy Story  Led by Woody, Andy's toys live happily in his ...   \n",
      "0      Toy Story  Led by Woody, Andy's toys live happily in his ...   \n",
      "1        Jumanji  When siblings Judy and Peter discover an encha...   \n",
      "1        Jumanji  When siblings Judy and Peter discover an encha...   \n",
      "\n",
      "  popularity  ... vote_average vote_count collection_id       collection_name  \\\n",
      "0  21.946943  ...          7.7     5415.0       10194.0  Toy Story Collection   \n",
      "0  21.946943  ...          7.7     5415.0       10194.0  Toy Story Collection   \n",
      "0  21.946943  ...          7.7     5415.0       10194.0  Toy Story Collection   \n",
      "1  17.015539  ...          6.9     2413.0           NaN                   NaN   \n",
      "1  17.015539  ...          6.9     2413.0           NaN                   NaN   \n",
      "\n",
      "             collection_poster_path          collection_backdrop_path  \\\n",
      "0  /7G9915LfUQ2lVfwMEEhDsn3kT4B.jpg  /9FBwqcd9IRruEDUrTdcaafOMKUq.jpg   \n",
      "0  /7G9915LfUQ2lVfwMEEhDsn3kT4B.jpg  /9FBwqcd9IRruEDUrTdcaafOMKUq.jpg   \n",
      "0  /7G9915LfUQ2lVfwMEEhDsn3kT4B.jpg  /9FBwqcd9IRruEDUrTdcaafOMKUq.jpg   \n",
      "1                               NaN                               NaN   \n",
      "1                               NaN                               NaN   \n",
      "\n",
      "  genre_id genre_name             company_name company_id  \n",
      "0     16.0  Animation  Pixar Animation Studios        3.0  \n",
      "0     16.0  Animation  Pixar Animation Studios        3.0  \n",
      "0     16.0  Animation  Pixar Animation Studios        3.0  \n",
      "1     35.0     Comedy  Pixar Animation Studios        3.0  \n",
      "1     35.0     Comedy  Pixar Animation Studios        3.0  \n",
      "\n",
      "[5 rows x 30 columns]\n"
     ]
    }
   ],
   "source": [
    "import pandas as pd\n",
    "import json\n",
    "\n",
    "# función para manejar errores de formato en JSON\n",
    "def clean_json(data):\n",
    "    try:\n",
    "        return json.loads(data.replace(\"'\", '\"')) if pd.notna(data) else None\n",
    "    except json.JSONDecodeError:\n",
    "        return None  # Retorna None si hay un error de decodificación\n",
    "\n",
    "# Aplicar la función para limpiar los datos JSON\n",
    "df['production_companies'] = df['production_companies'].apply(clean_json)\n",
    "\n",
    "# Filtrar las filas donde 'production_companies' es None debido a errores de JSON\n",
    "df = df[df['production_companies'].notna()]\n",
    "\n",
    "# Expandir la columna 'production_companies' en múltiples filas\n",
    "companies_expanded = df.explode('production_companies')\n",
    "\n",
    "# Normalizar los datos de 'production_companies' y unir con el DataFrame original\n",
    "companies_normalized = pd.json_normalize(companies_expanded['production_companies'])\n",
    "companies_normalized.columns = ['company_' + col for col in companies_normalized.columns]  # Renombrar columnas para claridad\n",
    "df = companies_expanded.drop('production_companies', axis=1).join(companies_normalized)\n",
    "\n",
    "# Imprimir las primeras filas para verificar\n",
    "print(df.head())\n",
    "\n"
   ]
  },
  {
   "cell_type": "code",
   "execution_count": 6,
   "metadata": {},
   "outputs": [
    {
     "data": {
      "text/plain": [
       "(174002, 30)"
      ]
     },
     "execution_count": 6,
     "metadata": {},
     "output_type": "execute_result"
    }
   ],
   "source": [
    "df.shape"
   ]
  },
  {
   "cell_type": "code",
   "execution_count": 7,
   "metadata": {},
   "outputs": [
    {
     "name": "stdout",
     "output_type": "stream",
     "text": [
      "   adult                              belongs_to_collection    budget  \\\n",
      "0  False  {'id': 10194, 'name': 'Toy Story Collection', ...  30000000   \n",
      "0  False  {'id': 10194, 'name': 'Toy Story Collection', ...  30000000   \n",
      "0  False  {'id': 10194, 'name': 'Toy Story Collection', ...  30000000   \n",
      "1  False                                                 {}  65000000   \n",
      "1  False                                                 {}  65000000   \n",
      "\n",
      "                               homepage    id    imdb_id original_language  \\\n",
      "0  http://toystory.disney.com/toy-story   862  tt0114709                en   \n",
      "0  http://toystory.disney.com/toy-story   862  tt0114709                en   \n",
      "0  http://toystory.disney.com/toy-story   862  tt0114709                en   \n",
      "1                                   NaN  8844  tt0113497                en   \n",
      "1                                   NaN  8844  tt0113497                en   \n",
      "\n",
      "  original_title                                           overview  \\\n",
      "0      Toy Story  Led by Woody, Andy's toys live happily in his ...   \n",
      "0      Toy Story  Led by Woody, Andy's toys live happily in his ...   \n",
      "0      Toy Story  Led by Woody, Andy's toys live happily in his ...   \n",
      "1        Jumanji  When siblings Judy and Peter discover an encha...   \n",
      "1        Jumanji  When siblings Judy and Peter discover an encha...   \n",
      "\n",
      "  popularity  ... collection_id       collection_name  \\\n",
      "0  21.946943  ...       10194.0  Toy Story Collection   \n",
      "0  21.946943  ...       10194.0  Toy Story Collection   \n",
      "0  21.946943  ...       10194.0  Toy Story Collection   \n",
      "1  17.015539  ...           NaN                   NaN   \n",
      "1  17.015539  ...           NaN                   NaN   \n",
      "\n",
      "             collection_poster_path          collection_backdrop_path  \\\n",
      "0  /7G9915LfUQ2lVfwMEEhDsn3kT4B.jpg  /9FBwqcd9IRruEDUrTdcaafOMKUq.jpg   \n",
      "0  /7G9915LfUQ2lVfwMEEhDsn3kT4B.jpg  /9FBwqcd9IRruEDUrTdcaafOMKUq.jpg   \n",
      "0  /7G9915LfUQ2lVfwMEEhDsn3kT4B.jpg  /9FBwqcd9IRruEDUrTdcaafOMKUq.jpg   \n",
      "1                               NaN                               NaN   \n",
      "1                               NaN                               NaN   \n",
      "\n",
      "   genre_id genre_name             company_name company_id language_iso_639_1  \\\n",
      "0      16.0  Animation  Pixar Animation Studios        3.0                 en   \n",
      "0      16.0  Animation  Pixar Animation Studios        3.0                 en   \n",
      "0      16.0  Animation  Pixar Animation Studios        3.0                 en   \n",
      "1      35.0     Comedy  Pixar Animation Studios        3.0                 en   \n",
      "1      35.0     Comedy  Pixar Animation Studios        3.0                 en   \n",
      "\n",
      "   language_name  \n",
      "0        English  \n",
      "0        English  \n",
      "0        English  \n",
      "1        English  \n",
      "1        English  \n",
      "\n",
      "[5 rows x 31 columns]\n"
     ]
    }
   ],
   "source": [
    "# Aplicar funcion mpara limpiar los datos JSON en 'spoken_languages'\n",
    "df['spoken_languages'] = df['spoken_languages'].apply(clean_json)\n",
    "\n",
    "# Filtrar las filas donde 'spoken_languages' es None debido a errores de JSON\n",
    "df = df[df['spoken_languages'].notna()]\n",
    "\n",
    "# Expandir la columna 'spoken_languages' en múltiples filas\n",
    "languages_expanded = df.explode('spoken_languages')\n",
    "\n",
    "# Normalizar los datos de 'spoken_languages' y unir con el DataFrame original\n",
    "languages_normalized = pd.json_normalize(languages_expanded['spoken_languages'])\n",
    "languages_normalized.columns = ['language_' + col for col in languages_normalized.columns]  # Renombrar columnas para claridad\n",
    "df = languages_expanded.drop('spoken_languages', axis=1).join(languages_normalized)\n",
    "\n",
    "# Imprimir las primeras filas\n",
    "print(df.head())\n"
   ]
  },
  {
   "cell_type": "code",
   "execution_count": 8,
   "metadata": {},
   "outputs": [
    {
     "data": {
      "text/plain": [
       "(240984, 31)"
      ]
     },
     "execution_count": 8,
     "metadata": {},
     "output_type": "execute_result"
    }
   ],
   "source": [
    "df.shape"
   ]
  },
  {
   "cell_type": "code",
   "execution_count": 9,
   "metadata": {},
   "outputs": [
    {
     "name": "stdout",
     "output_type": "stream",
     "text": [
      "   adult                              belongs_to_collection    budget  \\\n",
      "0  False  {'id': 10194, 'name': 'Toy Story Collection', ...  30000000   \n",
      "0  False  {'id': 10194, 'name': 'Toy Story Collection', ...  30000000   \n",
      "0  False  {'id': 10194, 'name': 'Toy Story Collection', ...  30000000   \n",
      "1  False                                                 {}  65000000   \n",
      "1  False                                                 {}  65000000   \n",
      "\n",
      "                               homepage    id    imdb_id original_language  \\\n",
      "0  http://toystory.disney.com/toy-story   862  tt0114709                en   \n",
      "0  http://toystory.disney.com/toy-story   862  tt0114709                en   \n",
      "0  http://toystory.disney.com/toy-story   862  tt0114709                en   \n",
      "1                                   NaN  8844  tt0113497                en   \n",
      "1                                   NaN  8844  tt0113497                en   \n",
      "\n",
      "  original_title                                           overview  \\\n",
      "0      Toy Story  Led by Woody, Andy's toys live happily in his ...   \n",
      "0      Toy Story  Led by Woody, Andy's toys live happily in his ...   \n",
      "0      Toy Story  Led by Woody, Andy's toys live happily in his ...   \n",
      "1        Jumanji  When siblings Judy and Peter discover an encha...   \n",
      "1        Jumanji  When siblings Judy and Peter discover an encha...   \n",
      "\n",
      "  popularity  ...            collection_poster_path  \\\n",
      "0  21.946943  ...  /7G9915LfUQ2lVfwMEEhDsn3kT4B.jpg   \n",
      "0  21.946943  ...  /7G9915LfUQ2lVfwMEEhDsn3kT4B.jpg   \n",
      "0  21.946943  ...  /7G9915LfUQ2lVfwMEEhDsn3kT4B.jpg   \n",
      "1  17.015539  ...                               NaN   \n",
      "1  17.015539  ...                               NaN   \n",
      "\n",
      "           collection_backdrop_path  genre_id  genre_name  \\\n",
      "0  /9FBwqcd9IRruEDUrTdcaafOMKUq.jpg      16.0   Animation   \n",
      "0  /9FBwqcd9IRruEDUrTdcaafOMKUq.jpg      16.0   Animation   \n",
      "0  /9FBwqcd9IRruEDUrTdcaafOMKUq.jpg      16.0   Animation   \n",
      "1                               NaN      35.0      Comedy   \n",
      "1                               NaN      35.0      Comedy   \n",
      "\n",
      "              company_name company_id language_iso_639_1 language_name  \\\n",
      "0  Pixar Animation Studios        3.0                 en       English   \n",
      "0  Pixar Animation Studios        3.0                 en       English   \n",
      "0  Pixar Animation Studios        3.0                 en       English   \n",
      "1  Pixar Animation Studios        3.0                 en       English   \n",
      "1  Pixar Animation Studios        3.0                 en       English   \n",
      "\n",
      "   country_iso_3166_1              country_name  \n",
      "0                  US  United States of America  \n",
      "0                  US  United States of America  \n",
      "0                  US  United States of America  \n",
      "1                  US  United States of America  \n",
      "1                  US  United States of America  \n",
      "\n",
      "[5 rows x 32 columns]\n"
     ]
    }
   ],
   "source": [
    "# Aplicar funsion limpiar los datos JSON en 'production_countries'\n",
    "df['production_countries'] = df['production_countries'].apply(clean_json)\n",
    "\n",
    "# Filtrar las filas donde 'production_countries' es None debido a errores de JSON\n",
    "df = df[df['production_countries'].notna()]\n",
    "\n",
    "# Expandir la columna 'production_countries' en múltiples filas\n",
    "countries_expanded = df.explode('production_countries')\n",
    "\n",
    "# Normalizar los datos de 'production_countries' y unir con el DataFrame original\n",
    "countries_normalized = pd.json_normalize(countries_expanded['production_countries'])\n",
    "countries_normalized.columns = ['country_' + col for col in countries_normalized.columns]  # Renombrar columnas para claridad\n",
    "df = countries_expanded.drop('production_countries', axis=1).join(countries_normalized)\n",
    "\n",
    "# Imprimir las primeras filas\n",
    "print(df.head())\n"
   ]
  },
  {
   "cell_type": "code",
   "execution_count": 10,
   "metadata": {},
   "outputs": [
    {
     "data": {
      "text/plain": [
       "(376932, 32)"
      ]
     },
     "execution_count": 10,
     "metadata": {},
     "output_type": "execute_result"
    }
   ],
   "source": [
    "df.shape"
   ]
  },
  {
   "cell_type": "code",
   "execution_count": 13,
   "metadata": {},
   "outputs": [
    {
     "data": {
      "text/html": [
       "<div>\n",
       "<style scoped>\n",
       "    .dataframe tbody tr th:only-of-type {\n",
       "        vertical-align: middle;\n",
       "    }\n",
       "\n",
       "    .dataframe tbody tr th {\n",
       "        vertical-align: top;\n",
       "    }\n",
       "\n",
       "    .dataframe thead th {\n",
       "        text-align: right;\n",
       "    }\n",
       "</style>\n",
       "<table border=\"1\" class=\"dataframe\">\n",
       "  <thead>\n",
       "    <tr style=\"text-align: right;\">\n",
       "      <th></th>\n",
       "      <th>adult</th>\n",
       "      <th>belongs_to_collection</th>\n",
       "      <th>budget</th>\n",
       "      <th>homepage</th>\n",
       "      <th>id</th>\n",
       "      <th>imdb_id</th>\n",
       "      <th>original_language</th>\n",
       "      <th>original_title</th>\n",
       "      <th>overview</th>\n",
       "      <th>popularity</th>\n",
       "      <th>...</th>\n",
       "      <th>collection_poster_path</th>\n",
       "      <th>collection_backdrop_path</th>\n",
       "      <th>genre_id</th>\n",
       "      <th>genre_name</th>\n",
       "      <th>company_name</th>\n",
       "      <th>company_id</th>\n",
       "      <th>language_iso_639_1</th>\n",
       "      <th>language_name</th>\n",
       "      <th>country_iso_3166_1</th>\n",
       "      <th>country_name</th>\n",
       "    </tr>\n",
       "  </thead>\n",
       "  <tbody>\n",
       "    <tr>\n",
       "      <th>0</th>\n",
       "      <td>False</td>\n",
       "      <td>{'id': 10194, 'name': 'Toy Story Collection', ...</td>\n",
       "      <td>30000000</td>\n",
       "      <td>http://toystory.disney.com/toy-story</td>\n",
       "      <td>862</td>\n",
       "      <td>tt0114709</td>\n",
       "      <td>en</td>\n",
       "      <td>Toy Story</td>\n",
       "      <td>Led by Woody, Andy's toys live happily in his ...</td>\n",
       "      <td>21.946943</td>\n",
       "      <td>...</td>\n",
       "      <td>/7G9915LfUQ2lVfwMEEhDsn3kT4B.jpg</td>\n",
       "      <td>/9FBwqcd9IRruEDUrTdcaafOMKUq.jpg</td>\n",
       "      <td>16.0</td>\n",
       "      <td>Animation</td>\n",
       "      <td>Pixar Animation Studios</td>\n",
       "      <td>3.0</td>\n",
       "      <td>en</td>\n",
       "      <td>English</td>\n",
       "      <td>US</td>\n",
       "      <td>United States of America</td>\n",
       "    </tr>\n",
       "    <tr>\n",
       "      <th>0</th>\n",
       "      <td>False</td>\n",
       "      <td>{'id': 10194, 'name': 'Toy Story Collection', ...</td>\n",
       "      <td>30000000</td>\n",
       "      <td>http://toystory.disney.com/toy-story</td>\n",
       "      <td>862</td>\n",
       "      <td>tt0114709</td>\n",
       "      <td>en</td>\n",
       "      <td>Toy Story</td>\n",
       "      <td>Led by Woody, Andy's toys live happily in his ...</td>\n",
       "      <td>21.946943</td>\n",
       "      <td>...</td>\n",
       "      <td>/7G9915LfUQ2lVfwMEEhDsn3kT4B.jpg</td>\n",
       "      <td>/9FBwqcd9IRruEDUrTdcaafOMKUq.jpg</td>\n",
       "      <td>16.0</td>\n",
       "      <td>Animation</td>\n",
       "      <td>Pixar Animation Studios</td>\n",
       "      <td>3.0</td>\n",
       "      <td>en</td>\n",
       "      <td>English</td>\n",
       "      <td>US</td>\n",
       "      <td>United States of America</td>\n",
       "    </tr>\n",
       "    <tr>\n",
       "      <th>0</th>\n",
       "      <td>False</td>\n",
       "      <td>{'id': 10194, 'name': 'Toy Story Collection', ...</td>\n",
       "      <td>30000000</td>\n",
       "      <td>http://toystory.disney.com/toy-story</td>\n",
       "      <td>862</td>\n",
       "      <td>tt0114709</td>\n",
       "      <td>en</td>\n",
       "      <td>Toy Story</td>\n",
       "      <td>Led by Woody, Andy's toys live happily in his ...</td>\n",
       "      <td>21.946943</td>\n",
       "      <td>...</td>\n",
       "      <td>/7G9915LfUQ2lVfwMEEhDsn3kT4B.jpg</td>\n",
       "      <td>/9FBwqcd9IRruEDUrTdcaafOMKUq.jpg</td>\n",
       "      <td>16.0</td>\n",
       "      <td>Animation</td>\n",
       "      <td>Pixar Animation Studios</td>\n",
       "      <td>3.0</td>\n",
       "      <td>en</td>\n",
       "      <td>English</td>\n",
       "      <td>US</td>\n",
       "      <td>United States of America</td>\n",
       "    </tr>\n",
       "    <tr>\n",
       "      <th>1</th>\n",
       "      <td>False</td>\n",
       "      <td>{}</td>\n",
       "      <td>65000000</td>\n",
       "      <td>NaN</td>\n",
       "      <td>8844</td>\n",
       "      <td>tt0113497</td>\n",
       "      <td>en</td>\n",
       "      <td>Jumanji</td>\n",
       "      <td>When siblings Judy and Peter discover an encha...</td>\n",
       "      <td>17.015539</td>\n",
       "      <td>...</td>\n",
       "      <td>NaN</td>\n",
       "      <td>NaN</td>\n",
       "      <td>35.0</td>\n",
       "      <td>Comedy</td>\n",
       "      <td>Pixar Animation Studios</td>\n",
       "      <td>3.0</td>\n",
       "      <td>en</td>\n",
       "      <td>English</td>\n",
       "      <td>US</td>\n",
       "      <td>United States of America</td>\n",
       "    </tr>\n",
       "    <tr>\n",
       "      <th>1</th>\n",
       "      <td>False</td>\n",
       "      <td>{}</td>\n",
       "      <td>65000000</td>\n",
       "      <td>NaN</td>\n",
       "      <td>8844</td>\n",
       "      <td>tt0113497</td>\n",
       "      <td>en</td>\n",
       "      <td>Jumanji</td>\n",
       "      <td>When siblings Judy and Peter discover an encha...</td>\n",
       "      <td>17.015539</td>\n",
       "      <td>...</td>\n",
       "      <td>NaN</td>\n",
       "      <td>NaN</td>\n",
       "      <td>35.0</td>\n",
       "      <td>Comedy</td>\n",
       "      <td>Pixar Animation Studios</td>\n",
       "      <td>3.0</td>\n",
       "      <td>en</td>\n",
       "      <td>English</td>\n",
       "      <td>US</td>\n",
       "      <td>United States of America</td>\n",
       "    </tr>\n",
       "    <tr>\n",
       "      <th>...</th>\n",
       "      <td>...</td>\n",
       "      <td>...</td>\n",
       "      <td>...</td>\n",
       "      <td>...</td>\n",
       "      <td>...</td>\n",
       "      <td>...</td>\n",
       "      <td>...</td>\n",
       "      <td>...</td>\n",
       "      <td>...</td>\n",
       "      <td>...</td>\n",
       "      <td>...</td>\n",
       "      <td>...</td>\n",
       "      <td>...</td>\n",
       "      <td>...</td>\n",
       "      <td>...</td>\n",
       "      <td>...</td>\n",
       "      <td>...</td>\n",
       "      <td>...</td>\n",
       "      <td>...</td>\n",
       "      <td>...</td>\n",
       "      <td>...</td>\n",
       "    </tr>\n",
       "    <tr>\n",
       "      <th>45463</th>\n",
       "      <td>False</td>\n",
       "      <td>{}</td>\n",
       "      <td>0</td>\n",
       "      <td>NaN</td>\n",
       "      <td>67758</td>\n",
       "      <td>tt0303758</td>\n",
       "      <td>en</td>\n",
       "      <td>Betrayal</td>\n",
       "      <td>When one of her hits goes wrong, a professiona...</td>\n",
       "      <td>0.903007</td>\n",
       "      <td>...</td>\n",
       "      <td>NaN</td>\n",
       "      <td>NaN</td>\n",
       "      <td>35.0</td>\n",
       "      <td>Comedy</td>\n",
       "      <td>Inside Track Films</td>\n",
       "      <td>19834.0</td>\n",
       "      <td>en</td>\n",
       "      <td>English</td>\n",
       "      <td>CA</td>\n",
       "      <td>Canada</td>\n",
       "    </tr>\n",
       "    <tr>\n",
       "      <th>45463</th>\n",
       "      <td>False</td>\n",
       "      <td>{}</td>\n",
       "      <td>0</td>\n",
       "      <td>NaN</td>\n",
       "      <td>67758</td>\n",
       "      <td>tt0303758</td>\n",
       "      <td>en</td>\n",
       "      <td>Betrayal</td>\n",
       "      <td>When one of her hits goes wrong, a professiona...</td>\n",
       "      <td>0.903007</td>\n",
       "      <td>...</td>\n",
       "      <td>NaN</td>\n",
       "      <td>NaN</td>\n",
       "      <td>35.0</td>\n",
       "      <td>Comedy</td>\n",
       "      <td>Inside Track Films</td>\n",
       "      <td>19834.0</td>\n",
       "      <td>en</td>\n",
       "      <td>English</td>\n",
       "      <td>CA</td>\n",
       "      <td>Canada</td>\n",
       "    </tr>\n",
       "    <tr>\n",
       "      <th>45463</th>\n",
       "      <td>False</td>\n",
       "      <td>{}</td>\n",
       "      <td>0</td>\n",
       "      <td>NaN</td>\n",
       "      <td>67758</td>\n",
       "      <td>tt0303758</td>\n",
       "      <td>en</td>\n",
       "      <td>Betrayal</td>\n",
       "      <td>When one of her hits goes wrong, a professiona...</td>\n",
       "      <td>0.903007</td>\n",
       "      <td>...</td>\n",
       "      <td>NaN</td>\n",
       "      <td>NaN</td>\n",
       "      <td>35.0</td>\n",
       "      <td>Comedy</td>\n",
       "      <td>Inside Track Films</td>\n",
       "      <td>19834.0</td>\n",
       "      <td>en</td>\n",
       "      <td>English</td>\n",
       "      <td>CA</td>\n",
       "      <td>Canada</td>\n",
       "    </tr>\n",
       "    <tr>\n",
       "      <th>45464</th>\n",
       "      <td>False</td>\n",
       "      <td>{}</td>\n",
       "      <td>0</td>\n",
       "      <td>NaN</td>\n",
       "      <td>227506</td>\n",
       "      <td>tt0008536</td>\n",
       "      <td>en</td>\n",
       "      <td>Satana likuyushchiy</td>\n",
       "      <td>In a small town live two brothers, one a minis...</td>\n",
       "      <td>0.003503</td>\n",
       "      <td>...</td>\n",
       "      <td>NaN</td>\n",
       "      <td>NaN</td>\n",
       "      <td>18.0</td>\n",
       "      <td>Drama</td>\n",
       "      <td>Lions Gate Films</td>\n",
       "      <td>35.0</td>\n",
       "      <td>de</td>\n",
       "      <td>Deutsch</td>\n",
       "      <td>US</td>\n",
       "      <td>United States of America</td>\n",
       "    </tr>\n",
       "    <tr>\n",
       "      <th>45465</th>\n",
       "      <td>False</td>\n",
       "      <td>{}</td>\n",
       "      <td>0</td>\n",
       "      <td>NaN</td>\n",
       "      <td>461257</td>\n",
       "      <td>tt6980792</td>\n",
       "      <td>en</td>\n",
       "      <td>Queerama</td>\n",
       "      <td>50 years after decriminalisation of homosexual...</td>\n",
       "      <td>0.163015</td>\n",
       "      <td>...</td>\n",
       "      <td>NaN</td>\n",
       "      <td>NaN</td>\n",
       "      <td>10749.0</td>\n",
       "      <td>Romance</td>\n",
       "      <td>United Artists</td>\n",
       "      <td>60.0</td>\n",
       "      <td>cs</td>\n",
       "      <td>Český</td>\n",
       "      <td>CA</td>\n",
       "      <td>Canada</td>\n",
       "    </tr>\n",
       "  </tbody>\n",
       "</table>\n",
       "<p>376932 rows × 32 columns</p>\n",
       "</div>"
      ],
      "text/plain": [
       "       adult                              belongs_to_collection    budget  \\\n",
       "0      False  {'id': 10194, 'name': 'Toy Story Collection', ...  30000000   \n",
       "0      False  {'id': 10194, 'name': 'Toy Story Collection', ...  30000000   \n",
       "0      False  {'id': 10194, 'name': 'Toy Story Collection', ...  30000000   \n",
       "1      False                                                 {}  65000000   \n",
       "1      False                                                 {}  65000000   \n",
       "...      ...                                                ...       ...   \n",
       "45463  False                                                 {}         0   \n",
       "45463  False                                                 {}         0   \n",
       "45463  False                                                 {}         0   \n",
       "45464  False                                                 {}         0   \n",
       "45465  False                                                 {}         0   \n",
       "\n",
       "                                   homepage      id    imdb_id  \\\n",
       "0      http://toystory.disney.com/toy-story     862  tt0114709   \n",
       "0      http://toystory.disney.com/toy-story     862  tt0114709   \n",
       "0      http://toystory.disney.com/toy-story     862  tt0114709   \n",
       "1                                       NaN    8844  tt0113497   \n",
       "1                                       NaN    8844  tt0113497   \n",
       "...                                     ...     ...        ...   \n",
       "45463                                   NaN   67758  tt0303758   \n",
       "45463                                   NaN   67758  tt0303758   \n",
       "45463                                   NaN   67758  tt0303758   \n",
       "45464                                   NaN  227506  tt0008536   \n",
       "45465                                   NaN  461257  tt6980792   \n",
       "\n",
       "      original_language       original_title  \\\n",
       "0                    en            Toy Story   \n",
       "0                    en            Toy Story   \n",
       "0                    en            Toy Story   \n",
       "1                    en              Jumanji   \n",
       "1                    en              Jumanji   \n",
       "...                 ...                  ...   \n",
       "45463                en             Betrayal   \n",
       "45463                en             Betrayal   \n",
       "45463                en             Betrayal   \n",
       "45464                en  Satana likuyushchiy   \n",
       "45465                en             Queerama   \n",
       "\n",
       "                                                overview popularity  ...  \\\n",
       "0      Led by Woody, Andy's toys live happily in his ...  21.946943  ...   \n",
       "0      Led by Woody, Andy's toys live happily in his ...  21.946943  ...   \n",
       "0      Led by Woody, Andy's toys live happily in his ...  21.946943  ...   \n",
       "1      When siblings Judy and Peter discover an encha...  17.015539  ...   \n",
       "1      When siblings Judy and Peter discover an encha...  17.015539  ...   \n",
       "...                                                  ...        ...  ...   \n",
       "45463  When one of her hits goes wrong, a professiona...   0.903007  ...   \n",
       "45463  When one of her hits goes wrong, a professiona...   0.903007  ...   \n",
       "45463  When one of her hits goes wrong, a professiona...   0.903007  ...   \n",
       "45464  In a small town live two brothers, one a minis...   0.003503  ...   \n",
       "45465  50 years after decriminalisation of homosexual...   0.163015  ...   \n",
       "\n",
       "                 collection_poster_path          collection_backdrop_path  \\\n",
       "0      /7G9915LfUQ2lVfwMEEhDsn3kT4B.jpg  /9FBwqcd9IRruEDUrTdcaafOMKUq.jpg   \n",
       "0      /7G9915LfUQ2lVfwMEEhDsn3kT4B.jpg  /9FBwqcd9IRruEDUrTdcaafOMKUq.jpg   \n",
       "0      /7G9915LfUQ2lVfwMEEhDsn3kT4B.jpg  /9FBwqcd9IRruEDUrTdcaafOMKUq.jpg   \n",
       "1                                   NaN                               NaN   \n",
       "1                                   NaN                               NaN   \n",
       "...                                 ...                               ...   \n",
       "45463                               NaN                               NaN   \n",
       "45463                               NaN                               NaN   \n",
       "45463                               NaN                               NaN   \n",
       "45464                               NaN                               NaN   \n",
       "45465                               NaN                               NaN   \n",
       "\n",
       "       genre_id  genre_name             company_name company_id  \\\n",
       "0          16.0   Animation  Pixar Animation Studios        3.0   \n",
       "0          16.0   Animation  Pixar Animation Studios        3.0   \n",
       "0          16.0   Animation  Pixar Animation Studios        3.0   \n",
       "1          35.0      Comedy  Pixar Animation Studios        3.0   \n",
       "1          35.0      Comedy  Pixar Animation Studios        3.0   \n",
       "...         ...         ...                      ...        ...   \n",
       "45463      35.0      Comedy       Inside Track Films    19834.0   \n",
       "45463      35.0      Comedy       Inside Track Films    19834.0   \n",
       "45463      35.0      Comedy       Inside Track Films    19834.0   \n",
       "45464      18.0       Drama         Lions Gate Films       35.0   \n",
       "45465   10749.0     Romance           United Artists       60.0   \n",
       "\n",
       "      language_iso_639_1 language_name  country_iso_3166_1  \\\n",
       "0                     en       English                  US   \n",
       "0                     en       English                  US   \n",
       "0                     en       English                  US   \n",
       "1                     en       English                  US   \n",
       "1                     en       English                  US   \n",
       "...                  ...           ...                 ...   \n",
       "45463                 en       English                  CA   \n",
       "45463                 en       English                  CA   \n",
       "45463                 en       English                  CA   \n",
       "45464                 de       Deutsch                  US   \n",
       "45465                 cs         Český                  CA   \n",
       "\n",
       "                   country_name  \n",
       "0      United States of America  \n",
       "0      United States of America  \n",
       "0      United States of America  \n",
       "1      United States of America  \n",
       "1      United States of America  \n",
       "...                         ...  \n",
       "45463                    Canada  \n",
       "45463                    Canada  \n",
       "45463                    Canada  \n",
       "45464  United States of America  \n",
       "45465                    Canada  \n",
       "\n",
       "[376932 rows x 32 columns]"
      ]
     },
     "execution_count": 13,
     "metadata": {},
     "output_type": "execute_result"
    }
   ],
   "source": [
    "df"
   ]
  },
  {
   "cell_type": "code",
   "execution_count": 14,
   "metadata": {},
   "outputs": [
    {
     "name": "stdout",
     "output_type": "stream",
     "text": [
      "   adult    budget                              homepage    id    imdb_id  \\\n",
      "0  False  30000000  http://toystory.disney.com/toy-story   862  tt0114709   \n",
      "0  False  30000000  http://toystory.disney.com/toy-story   862  tt0114709   \n",
      "0  False  30000000  http://toystory.disney.com/toy-story   862  tt0114709   \n",
      "1  False  65000000                                   NaN  8844  tt0113497   \n",
      "1  False  65000000                                   NaN  8844  tt0113497   \n",
      "\n",
      "  original_language original_title  \\\n",
      "0                en      Toy Story   \n",
      "0                en      Toy Story   \n",
      "0                en      Toy Story   \n",
      "1                en        Jumanji   \n",
      "1                en        Jumanji   \n",
      "\n",
      "                                            overview popularity  \\\n",
      "0  Led by Woody, Andy's toys live happily in his ...  21.946943   \n",
      "0  Led by Woody, Andy's toys live happily in his ...  21.946943   \n",
      "0  Led by Woody, Andy's toys live happily in his ...  21.946943   \n",
      "1  When siblings Judy and Peter discover an encha...  17.015539   \n",
      "1  When siblings Judy and Peter discover an encha...  17.015539   \n",
      "\n",
      "                        poster_path  ...            collection_poster_path  \\\n",
      "0  /rhIRbceoE9lR4veEXuwCC2wARtG.jpg  ...  /7G9915LfUQ2lVfwMEEhDsn3kT4B.jpg   \n",
      "0  /rhIRbceoE9lR4veEXuwCC2wARtG.jpg  ...  /7G9915LfUQ2lVfwMEEhDsn3kT4B.jpg   \n",
      "0  /rhIRbceoE9lR4veEXuwCC2wARtG.jpg  ...  /7G9915LfUQ2lVfwMEEhDsn3kT4B.jpg   \n",
      "1  /vzmL6fP7aPKNKPRTFnZmiUfciyV.jpg  ...                               NaN   \n",
      "1  /vzmL6fP7aPKNKPRTFnZmiUfciyV.jpg  ...                               NaN   \n",
      "\n",
      "           collection_backdrop_path  genre_id genre_name  \\\n",
      "0  /9FBwqcd9IRruEDUrTdcaafOMKUq.jpg      16.0  Animation   \n",
      "0  /9FBwqcd9IRruEDUrTdcaafOMKUq.jpg      16.0  Animation   \n",
      "0  /9FBwqcd9IRruEDUrTdcaafOMKUq.jpg      16.0  Animation   \n",
      "1                               NaN      35.0     Comedy   \n",
      "1                               NaN      35.0     Comedy   \n",
      "\n",
      "              company_name company_id language_iso_639_1  language_name  \\\n",
      "0  Pixar Animation Studios        3.0                 en        English   \n",
      "0  Pixar Animation Studios        3.0                 en        English   \n",
      "0  Pixar Animation Studios        3.0                 en        English   \n",
      "1  Pixar Animation Studios        3.0                 en        English   \n",
      "1  Pixar Animation Studios        3.0                 en        English   \n",
      "\n",
      "   country_iso_3166_1              country_name  \n",
      "0                  US  United States of America  \n",
      "0                  US  United States of America  \n",
      "0                  US  United States of America  \n",
      "1                  US  United States of America  \n",
      "1                  US  United States of America  \n",
      "\n",
      "[5 rows x 31 columns]\n"
     ]
    }
   ],
   "source": [
    "# Eliminar las columnas anidadas originales\n",
    "columns_to_drop = ['belongs_to_collection']\n",
    "df = df.drop(columns=columns_to_drop)\n",
    "\n",
    "# Imprimir las primeras filas del DataFrame\n",
    "print(df.head())\n"
   ]
  },
  {
   "cell_type": "code",
   "execution_count": null,
   "metadata": {},
   "outputs": [],
   "source": [
    "df.shape"
   ]
  },
  {
   "cell_type": "code",
   "execution_count": 15,
   "metadata": {},
   "outputs": [
    {
     "name": "stdout",
     "output_type": "stream",
     "text": [
      "       revenue    budget\n",
      "0  373554033.0  30000000\n",
      "0  373554033.0  30000000\n",
      "0  373554033.0  30000000\n",
      "1  262797249.0  65000000\n",
      "1  262797249.0  65000000\n"
     ]
    }
   ],
   "source": [
    "# Rellenar los valores nulos en las columnas 'revenue' y 'budget' con 0\n",
    "df['revenue'] = df['revenue'].fillna(0)\n",
    "df['budget'] = df['budget'].fillna(0)\n",
    "\n",
    "# Verificar cambios \n",
    "print(df[['revenue', 'budget']].head())\n"
   ]
  },
  {
   "cell_type": "code",
   "execution_count": 16,
   "metadata": {},
   "outputs": [
    {
     "data": {
      "text/plain": [
       "(376932, 31)"
      ]
     },
     "execution_count": 16,
     "metadata": {},
     "output_type": "execute_result"
    }
   ],
   "source": [
    "df.shape"
   ]
  },
  {
   "cell_type": "code",
   "execution_count": 17,
   "metadata": {},
   "outputs": [
    {
     "name": "stdout",
     "output_type": "stream",
     "text": [
      "0    1995-10-30\n",
      "0    1995-10-30\n",
      "0    1995-10-30\n",
      "1    1995-12-15\n",
      "1    1995-12-15\n",
      "Name: release_date, dtype: object\n"
     ]
    }
   ],
   "source": [
    "# Eliminar filas donde 'release_date' es nulo\n",
    "df = df.dropna(subset=['release_date'])\n",
    "\n",
    "# Verificar cambios imprimiendo las primeras filas del DataFrame\n",
    "print(df['release_date'].head())\n"
   ]
  },
  {
   "cell_type": "code",
   "execution_count": 18,
   "metadata": {},
   "outputs": [
    {
     "data": {
      "text/plain": [
       "(376762, 31)"
      ]
     },
     "execution_count": 18,
     "metadata": {},
     "output_type": "execute_result"
    }
   ],
   "source": [
    "df.shape"
   ]
  },
  {
   "cell_type": "code",
   "execution_count": 19,
   "metadata": {},
   "outputs": [
    {
     "name": "stdout",
     "output_type": "stream",
     "text": [
      "   adult    budget                              homepage     id    imdb_id  \\\n",
      "0  False  30000000  http://toystory.disney.com/toy-story    862  tt0114709   \n",
      "1  False  65000000                                   NaN   8844  tt0113497   \n",
      "2  False         0                                   NaN  15602  tt0113228   \n",
      "3  False  16000000                                   NaN  31357  tt0114885   \n",
      "4  False         0                                   NaN  11862  tt0113041   \n",
      "\n",
      "  original_language               original_title  \\\n",
      "0                en                    Toy Story   \n",
      "1                en                      Jumanji   \n",
      "2                en             Grumpier Old Men   \n",
      "3                en            Waiting to Exhale   \n",
      "4                en  Father of the Bride Part II   \n",
      "\n",
      "                                            overview popularity  \\\n",
      "0  Led by Woody, Andy's toys live happily in his ...  21.946943   \n",
      "1  When siblings Judy and Peter discover an encha...  17.015539   \n",
      "2  A family wedding reignites the ancient feud be...    11.7129   \n",
      "3  Cheated on, mistreated and stepped on, the wom...   3.859495   \n",
      "4  Just when George Banks has recovered from his ...   8.387519   \n",
      "\n",
      "                        poster_path  ...            collection_poster_path  \\\n",
      "0  /rhIRbceoE9lR4veEXuwCC2wARtG.jpg  ...  /7G9915LfUQ2lVfwMEEhDsn3kT4B.jpg   \n",
      "1  /vzmL6fP7aPKNKPRTFnZmiUfciyV.jpg  ...                               NaN   \n",
      "2  /6ksm1sjKMFLbO7UY2i6G1ju9SML.jpg  ...  /nLvUdqgPgm3F85NMCii9gVFUcet.jpg   \n",
      "3  /16XOMpEaLWkrcPqSQqhTmeJuqQl.jpg  ...                               NaN   \n",
      "4  /e64sOI48hQXyru7naBFyssKFxVd.jpg  ...  /nts4iOmNnq7GNicycMJ9pSAn204.jpg   \n",
      "\n",
      "           collection_backdrop_path  genre_id genre_name  \\\n",
      "0  /9FBwqcd9IRruEDUrTdcaafOMKUq.jpg      16.0  Animation   \n",
      "1                               NaN      35.0     Comedy   \n",
      "2  /hypTnLot2z8wpFS7qwsQHW1uV8u.jpg   10751.0     Family   \n",
      "3                               NaN      12.0  Adventure   \n",
      "4  /7qwE57OVZmMJChBpLEbJEmzUydk.jpg      14.0    Fantasy   \n",
      "\n",
      "              company_name company_id language_iso_639_1  language_name  \\\n",
      "0  Pixar Animation Studios        3.0                 en        English   \n",
      "1  Pixar Animation Studios        3.0                 en        English   \n",
      "2  Pixar Animation Studios        3.0                 en        English   \n",
      "3         TriStar Pictures      559.0                 en        English   \n",
      "4             Teitler Film     2550.0                 fr       Français   \n",
      "\n",
      "   country_iso_3166_1              country_name  \n",
      "0                  US  United States of America  \n",
      "1                  US  United States of America  \n",
      "2                  US  United States of America  \n",
      "3                  US  United States of America  \n",
      "4                  US  United States of America  \n",
      "\n",
      "[5 rows x 31 columns]\n"
     ]
    }
   ],
   "source": [
    "# Eliminar filas duplicadas basándose en todas las columnas\n",
    "df = df.drop_duplicates()\n",
    "\n",
    "# Imprimir las primeras filas \n",
    "print(df.head())\n"
   ]
  },
  {
   "cell_type": "code",
   "execution_count": 20,
   "metadata": {},
   "outputs": [
    {
     "data": {
      "text/plain": [
       "(44862, 31)"
      ]
     },
     "execution_count": 20,
     "metadata": {},
     "output_type": "execute_result"
    }
   ],
   "source": [
    "df.shape"
   ]
  },
  {
   "cell_type": "code",
   "execution_count": 21,
   "metadata": {},
   "outputs": [
    {
     "name": "stdout",
     "output_type": "stream",
     "text": [
      "0   1995-10-30\n",
      "1   1995-12-15\n",
      "2   1995-12-22\n",
      "3   1995-12-22\n",
      "4   1995-02-10\n",
      "Name: release_date, dtype: datetime64[ns]\n"
     ]
    }
   ],
   "source": [
    "# Convertir 'release_date' a formato de fecha con pandas\n",
    "df['release_date'] = pd.to_datetime(df['release_date'], errors='coerce', format='%Y-%m-%d')\n",
    "print(df['release_date'].head())\n"
   ]
  },
  {
   "cell_type": "code",
   "execution_count": 22,
   "metadata": {},
   "outputs": [
    {
     "data": {
      "text/plain": [
       "(44862, 31)"
      ]
     },
     "execution_count": 22,
     "metadata": {},
     "output_type": "execute_result"
    }
   ],
   "source": [
    "df.shape"
   ]
  },
  {
   "cell_type": "code",
   "execution_count": 23,
   "metadata": {},
   "outputs": [
    {
     "name": "stdout",
     "output_type": "stream",
     "text": [
      "  release_date  release_year\n",
      "0   1995-10-30          1995\n",
      "1   1995-12-15          1995\n",
      "2   1995-12-22          1995\n",
      "3   1995-12-22          1995\n",
      "4   1995-02-10          1995\n"
     ]
    }
   ],
   "source": [
    "# Crear la columna 'release_year' extrayendo el año de 'release_date'\n",
    "df['release_year'] = df['release_date'].dt.year\n",
    "\n",
    "# Imprimir las primeras filas para verificar la creación de la columna\n",
    "print(df[['release_date', 'release_year']].head())"
   ]
  },
  {
   "cell_type": "code",
   "execution_count": 24,
   "metadata": {},
   "outputs": [
    {
     "data": {
      "text/plain": [
       "(44862, 32)"
      ]
     },
     "execution_count": 24,
     "metadata": {},
     "output_type": "execute_result"
    }
   ],
   "source": [
    "df.shape"
   ]
  },
  {
   "cell_type": "code",
   "execution_count": 25,
   "metadata": {},
   "outputs": [
    {
     "name": "stdout",
     "output_type": "stream",
     "text": [
      "       revenue    budget     return\n",
      "0  373554033.0  30000000  12.451801\n",
      "1  262797249.0  65000000   4.043035\n",
      "2          0.0         0   0.000000\n",
      "3   81452156.0  16000000   5.090760\n",
      "4   76578911.0         0   0.000000\n"
     ]
    }
   ],
   "source": [
    "# Asegurarse de que 'revenue' y 'budget' son numéricos y rellenar los valores nulos con 0\n",
    "df['revenue'] = pd.to_numeric(df['revenue'], errors='coerce').fillna(0)\n",
    "df['budget'] = pd.to_numeric(df['budget'], errors='coerce').fillna(0)\n",
    "\n",
    "# Calcular el retorno de inversión y manejar divisiones por cero\n",
    "df['return'] = df.apply(lambda row: row['revenue'] / row['budget'] if row['budget'] > 0 else 0, axis=1)\n",
    "\n",
    "# Imprimir las primeras filas para verificar la creación de la columna 'return'\n",
    "print(df[['revenue', 'budget', 'return']].head())\n"
   ]
  },
  {
   "cell_type": "code",
   "execution_count": 26,
   "metadata": {},
   "outputs": [
    {
     "data": {
      "text/plain": [
       "(44862, 33)"
      ]
     },
     "execution_count": 26,
     "metadata": {},
     "output_type": "execute_result"
    }
   ],
   "source": [
    "df.shape"
   ]
  },
  {
   "cell_type": "code",
   "execution_count": 27,
   "metadata": {},
   "outputs": [
    {
     "name": "stdout",
     "output_type": "stream",
     "text": [
      "     budget     id original_language  \\\n",
      "0  30000000    862                en   \n",
      "1  65000000   8844                en   \n",
      "2         0  15602                en   \n",
      "3  16000000  31357                en   \n",
      "4         0  11862                en   \n",
      "\n",
      "                                            overview popularity release_date  \\\n",
      "0  Led by Woody, Andy's toys live happily in his ...  21.946943   1995-10-30   \n",
      "1  When siblings Judy and Peter discover an encha...  17.015539   1995-12-15   \n",
      "2  A family wedding reignites the ancient feud be...    11.7129   1995-12-22   \n",
      "3  Cheated on, mistreated and stepped on, the wom...   3.859495   1995-12-22   \n",
      "4  Just when George Banks has recovered from his ...   8.387519   1995-02-10   \n",
      "\n",
      "       revenue  runtime    status  \\\n",
      "0  373554033.0     81.0  Released   \n",
      "1  262797249.0    104.0  Released   \n",
      "2          0.0    101.0  Released   \n",
      "3   81452156.0    127.0  Released   \n",
      "4   76578911.0    106.0  Released   \n",
      "\n",
      "                                             tagline  ... genre_id  \\\n",
      "0                                                NaN  ...     16.0   \n",
      "1          Roll the dice and unleash the excitement!  ...     35.0   \n",
      "2  Still Yelling. Still Fighting. Still Ready for...  ...  10751.0   \n",
      "3  Friends are the people who let you be yourself...  ...     12.0   \n",
      "4  Just When His World Is Back To Normal... He's ...  ...     14.0   \n",
      "\n",
      "   genre_name             company_name  company_id language_iso_639_1  \\\n",
      "0   Animation  Pixar Animation Studios         3.0                 en   \n",
      "1      Comedy  Pixar Animation Studios         3.0                 en   \n",
      "2      Family  Pixar Animation Studios         3.0                 en   \n",
      "3   Adventure         TriStar Pictures       559.0                 en   \n",
      "4     Fantasy             Teitler Film      2550.0                 fr   \n",
      "\n",
      "  language_name country_iso_3166_1              country_name release_year  \\\n",
      "0       English                 US  United States of America         1995   \n",
      "1       English                 US  United States of America         1995   \n",
      "2       English                 US  United States of America         1995   \n",
      "3       English                 US  United States of America         1995   \n",
      "4      Français                 US  United States of America         1995   \n",
      "\n",
      "      return  \n",
      "0  12.451801  \n",
      "1   4.043035  \n",
      "2   0.000000  \n",
      "3   5.090760  \n",
      "4   0.000000  \n",
      "\n",
      "[5 rows x 27 columns]\n"
     ]
    }
   ],
   "source": [
    "# Eliminar las columnas que no se utilizarán\n",
    "columns_to_drop = ['video', 'imdb_id', 'adult', 'original_title', 'poster_path', 'homepage']\n",
    "df = df.drop(columns=columns_to_drop)\n",
    "print(df.head())\n"
   ]
  },
  {
   "cell_type": "code",
   "execution_count": 28,
   "metadata": {},
   "outputs": [
    {
     "data": {
      "text/plain": [
       "(44862, 27)"
      ]
     },
     "execution_count": 28,
     "metadata": {},
     "output_type": "execute_result"
    }
   ],
   "source": [
    "df.shape"
   ]
  },
  {
   "cell_type": "code",
   "execution_count": 31,
   "metadata": {},
   "outputs": [
    {
     "data": {
      "text/plain": [
       "(44862, 27)"
      ]
     },
     "execution_count": 31,
     "metadata": {},
     "output_type": "execute_result"
    }
   ],
   "source": [
    "df.shape"
   ]
  },
  {
   "cell_type": "code",
   "execution_count": 33,
   "metadata": {},
   "outputs": [],
   "source": [
    "# Guardar el DataFrame en un archivo CSV con un terminador de línea estándar\n",
    "df.to_csv('movies_dataset_cleaned.csv', index=False)\n"
   ]
  }
 ],
 "metadata": {
  "kernelspec": {
   "display_name": "Python 3",
   "language": "python",
   "name": "python3"
  },
  "language_info": {
   "codemirror_mode": {
    "name": "ipython",
    "version": 3
   },
   "file_extension": ".py",
   "mimetype": "text/x-python",
   "name": "python",
   "nbconvert_exporter": "python",
   "pygments_lexer": "ipython3",
   "version": "3.12.1"
  }
 },
 "nbformat": 4,
 "nbformat_minor": 2
}
