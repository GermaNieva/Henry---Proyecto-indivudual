{
 "cells": [
  {
   "cell_type": "code",
   "execution_count": 1,
   "metadata": {},
   "outputs": [
    {
     "name": "stdout",
     "output_type": "stream",
     "text": [
      "Archivos guardados exitosamente en formato CSV y Parquet.\n"
     ]
    }
   ],
   "source": [
    "import pandas as pd\n",
    "\n",
    "# Cargar los datasets\n",
    "data_merge = pd.read_csv('merge_mc.csv')\n",
    "data_cleaned = pd.read_csv('movies_dataset_cleaned.csv')\n",
    "\n",
    "# Realizar el merge utilizando la columna 'id' que es común en ambos datasets\n",
    "result = pd.merge(data_merge, data_cleaned[['id', 'company_name', 'genre_name']], on='id', how='left')\n",
    "\n",
    "# Guardar el DataFrame resultante en formato Parquet\n",
    "result.to_parquet('merged_enriched_dataset.parquet', index=False)\n",
    "\n",
    "print(\"Archivos guardados exitosamente en formato CSV y Parquet.\")\n"
   ]
  }
 ],
 "metadata": {
  "kernelspec": {
   "display_name": "venv",
   "language": "python",
   "name": "python3"
  },
  "language_info": {
   "codemirror_mode": {
    "name": "ipython",
    "version": 3
   },
   "file_extension": ".py",
   "mimetype": "text/x-python",
   "name": "python",
   "nbconvert_exporter": "python",
   "pygments_lexer": "ipython3",
   "version": "3.12.1"
  }
 },
 "nbformat": 4,
 "nbformat_minor": 2
}
