{
 "cells": [
  {
   "cell_type": "code",
   "execution_count": 1,
   "metadata": {},
   "outputs": [
    {
     "name": "stdout",
     "output_type": "stream",
     "text": [
      "<class 'pandas.core.frame.DataFrame'>\n",
      "Int64Index: 44832 entries, 0 to 44934\n",
      "Data columns (total 11 columns):\n",
      " #   Column        Non-Null Count  Dtype         \n",
      "---  ------        --------------  -----         \n",
      " 0   id            44832 non-null  int64         \n",
      " 1   title         44832 non-null  object        \n",
      " 2   release_date  44832 non-null  datetime64[ns]\n",
      " 3   popularity    44832 non-null  float64       \n",
      " 4   vote_average  44832 non-null  float64       \n",
      " 5   vote_count    44832 non-null  float64       \n",
      " 6   budget        44832 non-null  int64         \n",
      " 7   revenue       44832 non-null  float64       \n",
      " 8   return        44832 non-null  float64       \n",
      " 9   actors        44832 non-null  object        \n",
      " 10  directors     44832 non-null  object        \n",
      "dtypes: datetime64[ns](1), float64(5), int64(2), object(3)\n",
      "memory usage: 4.1+ MB\n"
     ]
    },
    {
     "data": {
      "text/plain": [
       "(None,\n",
       "       id                        title release_date  popularity  vote_average  \\\n",
       " 0    862                    Toy Story   1995-10-30   21.946943           7.7   \n",
       " 1   8844                      Jumanji   1995-12-15   17.015539           6.9   \n",
       " 2  15602             Grumpier Old Men   1995-12-22   11.712900           6.5   \n",
       " 3  31357            Waiting to Exhale   1995-12-22    3.859495           6.1   \n",
       " 4  11862  Father of the Bride Part II   1995-02-10    8.387519           5.7   \n",
       " \n",
       "    vote_count    budget      revenue     return  \\\n",
       " 0      5415.0  30000000  373554033.0  12.451801   \n",
       " 1      2413.0  65000000  262797249.0   4.043035   \n",
       " 2        92.0         0          0.0   0.000000   \n",
       " 3        34.0  16000000   81452156.0   5.090760   \n",
       " 4       173.0         0   76578911.0   0.000000   \n",
       " \n",
       "                                               actors        directors  \n",
       " 0  Tom Hanks, Tim Allen, Don Rickles, Jim Varney,...    John Lasseter  \n",
       " 1  Robin Williams, Jonathan Hyde, Kirsten Dunst, ...     Joe Johnston  \n",
       " 2  Walter Matthau, Jack Lemmon, Ann-Margret, Soph...    Howard Deutch  \n",
       " 3  Whitney Houston, Angela Bassett, Loretta Devin...  Forest Whitaker  \n",
       " 4  Steve Martin, Diane Keaton, Martin Short, Kimb...    Charles Shyer  )"
      ]
     },
     "execution_count": 1,
     "metadata": {},
     "output_type": "execute_result"
    }
   ],
   "source": [
    "# Notebook de limpieza de datos:\n",
    "\n",
    "# librerías necesarias\n",
    "import pandas as pd\n",
    "\n",
    "# Cargo los datos \n",
    "ruta_datos = '../DATASET/movies_credits_merged.parquet'  \n",
    "movies = pd.read_parquet(ruta_datos)\n",
    "\n",
    "# Eliminar entradas duplicadas por el ID de la película\n",
    "movies.drop_duplicates(subset='id', keep='first', inplace=True)\n",
    "\n",
    "# Paso 4: Manejar los valores nulos en 'actors' y 'directors'\n",
    "# Reemplazamos los valores nulos con 'Desconocido' para simplificar, ajusta según necesidades\n",
    "movies['actors'].fillna('Desconocido', inplace=True)\n",
    "movies['directors'].fillna('Desconocido', inplace=True)\n",
    "\n",
    "# Paso 5: Convertir 'release_date' a formato datetime para manipulación más fácil\n",
    "movies['release_date'] = pd.to_datetime(movies['release_date'], errors='coerce')\n",
    "\n",
    "# Mostrar la información actualizada del dataset\n",
    "movies.info(), movies.head()\n"
   ]
  }
 ],
 "metadata": {
  "kernelspec": {
   "display_name": "venv",
   "language": "python",
   "name": "python3"
  },
  "language_info": {
   "codemirror_mode": {
    "name": "ipython",
    "version": 3
   },
   "file_extension": ".py",
   "mimetype": "text/x-python",
   "name": "python",
   "nbconvert_exporter": "python",
   "pygments_lexer": "ipython3",
   "version": "3.12.1"
  }
 },
 "nbformat": 4,
 "nbformat_minor": 2
}
