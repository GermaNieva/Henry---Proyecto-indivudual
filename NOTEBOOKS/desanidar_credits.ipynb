{
 "cells": [
  {
   "cell_type": "code",
   "execution_count": 2,
   "metadata": {},
   "outputs": [
    {
     "name": "stdout",
     "output_type": "stream",
     "text": [
      "      id                                             actors        directors\n",
      "0    862  Tom Hanks, Tim Allen, Don Rickles, Jim Varney,...    John Lasseter\n",
      "1   8844  Robin Williams, Jonathan Hyde, Kirsten Dunst, ...     Joe Johnston\n",
      "2  15602  Walter Matthau, Jack Lemmon, Ann-Margret, Soph...    Howard Deutch\n",
      "3  31357  Whitney Houston, Angela Bassett, Loretta Devin...  Forest Whitaker\n",
      "4  11862  Steve Martin, Diane Keaton, Martin Short, Kimb...    Charles Shyer\n"
     ]
    }
   ],
   "source": [
    "import pandas as pd\n",
    "\n",
    "# Cargar el archivo CSV\n",
    "credits_df = pd.read_csv('credits.csv')\n",
    "\n",
    "# Función para extraer los nombres de los actores\n",
    "def extract_actor_names(cast):\n",
    "    if isinstance(cast, str):\n",
    "        cast_list = eval(cast)\n",
    "        return ', '.join([actor['name'] for actor in cast_list])\n",
    "    return ''\n",
    "\n",
    "# Aplicar la función a la columna 'cast'\n",
    "credits_df['actors'] = credits_df['cast'].apply(extract_actor_names)\n",
    "\n",
    "# Función para extraer los nombres de los directores\n",
    "def extract_director_names(crew):\n",
    "    if isinstance(crew, str):\n",
    "        crew_list = eval(crew)\n",
    "        return ', '.join([member['name'] for member in crew_list if member['job'] == 'Director'])\n",
    "    return ''\n",
    "\n",
    "# Aplicar la función a la columna 'crew'\n",
    "credits_df['directors'] = credits_df['crew'].apply(extract_director_names)\n",
    "\n",
    "# Crear el DataFrame final con las columnas 'id', 'actors' y 'directors'\n",
    "final_df = credits_df[['id', 'actors', 'directors']]\n",
    "\n",
    "# Guardar el DataFrame final en un nuevo archivo CSV\n",
    "final_df.to_csv('credits_processed.csv', index=False)\n",
    "\n",
    "# Mostrar las primeras filas del DataFrame final\n",
    "print(final_df.head())\n",
    "\n",
    "\n"
   ]
  },
  {
   "cell_type": "code",
   "execution_count": 3,
   "metadata": {},
   "outputs": [
    {
     "data": {
      "text/plain": [
       "(45476, 3)"
      ]
     },
     "execution_count": 3,
     "metadata": {},
     "output_type": "execute_result"
    }
   ],
   "source": [
    "final_df.shape\n"
   ]
  },
  {
   "cell_type": "code",
   "execution_count": 4,
   "metadata": {},
   "outputs": [
    {
     "name": "stdout",
     "output_type": "stream",
     "text": [
      "           id                                             actors  \\\n",
      "0         862  Tom Hanks, Tim Allen, Don Rickles, Jim Varney,...   \n",
      "1        8844  Robin Williams, Jonathan Hyde, Kirsten Dunst, ...   \n",
      "2       15602  Walter Matthau, Jack Lemmon, Ann-Margret, Soph...   \n",
      "3       31357  Whitney Houston, Angela Bassett, Loretta Devin...   \n",
      "4       11862  Steve Martin, Diane Keaton, Martin Short, Kimb...   \n",
      "...       ...                                                ...   \n",
      "45471  439050          Leila Hatami, Kourosh Tahami, Elham Korda   \n",
      "45472  111109  Angel Aquino, Perry Dizon, Hazel Orencio, Joel...   \n",
      "45473   67758  Erika Eleniak, Adam Baldwin, Julie du Page, Ja...   \n",
      "45474  227506  Iwan Mosschuchin, Nathalie Lissenko, Pavel Pav...   \n",
      "45475  461257                                                      \n",
      "\n",
      "              directors  \n",
      "0         John Lasseter  \n",
      "1          Joe Johnston  \n",
      "2         Howard Deutch  \n",
      "3       Forest Whitaker  \n",
      "4         Charles Shyer  \n",
      "...                 ...  \n",
      "45471  Hamid Nematollah  \n",
      "45472          Lav Diaz  \n",
      "45473    Mark L. Lester  \n",
      "45474  Yakov Protazanov  \n",
      "45475     Daisy Asquith  \n",
      "\n",
      "[45433 rows x 3 columns]\n"
     ]
    }
   ],
   "source": [
    "df_sin_duplicados = final_df.drop_duplicates()\n",
    "print(df_sin_duplicados)"
   ]
  }
 ],
 "metadata": {
  "kernelspec": {
   "display_name": "Python 3",
   "language": "python",
   "name": "python3"
  },
  "language_info": {
   "codemirror_mode": {
    "name": "ipython",
    "version": 3
   },
   "file_extension": ".py",
   "mimetype": "text/x-python",
   "name": "python",
   "nbconvert_exporter": "python",
   "pygments_lexer": "ipython3",
   "version": "3.12.1"
  }
 },
 "nbformat": 4,
 "nbformat_minor": 2
}
